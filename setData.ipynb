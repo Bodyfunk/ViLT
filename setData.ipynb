{
 "cells": [
  {
   "cell_type": "code",
   "execution_count": 2,
   "metadata": {},
   "outputs": [],
   "source": [
    "import pyarrow as pa\n",
    "import os"
   ]
  },
  {
   "cell_type": "code",
   "execution_count": 3,
   "metadata": {},
   "outputs": [],
   "source": [
    "data_dir = \"/data/nfs/datasets/mscoco2014\"\n",
    "name = \"coco_caption_karpathy_train\"\n",
    "names = [\"coco_caption_karpathy_train\", \"coco_caption_karpathy_test\", \"coco_caption_karpathy_val\", \"coco_caption_karpathy_restval\"]\n",
    "# tables = [\n",
    "#                 pa.ipc.RecordBatchFileReader(\n",
    "#                     pa.memory_map(f\"{data_dir}/{name}.arrow\", \"r\")\n",
    "#                 ).read_all()\n",
    "#                 for name in names\n",
    "#                 if os.path.isfile(f\"{data_dir}/{name}.arrow\")\n",
    "#             ]\n",
    "\n",
    "table = pa.ipc.open_file(\"/data/nfs/datasets/mscoco2014/coco_caption_karpathy_test.arrow\").read_pandas()"
   ]
  },
  {
   "cell_type": "code",
   "execution_count": 25,
   "metadata": {},
   "outputs": [
    {
     "name": "stdout",
     "output_type": "stream",
     "text": [
      "['an  image of a row of buses parked in the parking lot'\n",
      " 'A large line of buses sitting in a row'\n",
      " 'Row of five yellow school busses in parked position.'\n",
      " 'Several school buses are lined up and parked.'\n",
      " 'Five school buses are lined up in a parking lot.']\n"
     ]
    }
   ],
   "source": [
    "print(table.iat[1,1])"
   ]
  },
  {
   "cell_type": "code",
   "execution_count": 4,
   "metadata": {},
   "outputs": [],
   "source": [
    "\n",
    "for row in table.itertuples():\n",
    "    print(row)"
   ]
  }
 ],
 "metadata": {
  "kernelspec": {
   "display_name": "Python 3.7.13 ('vilt3.7')",
   "language": "python",
   "name": "python3"
  },
  "language_info": {
   "codemirror_mode": {
    "name": "ipython",
    "version": 3
   },
   "file_extension": ".py",
   "mimetype": "text/x-python",
   "name": "python",
   "nbconvert_exporter": "python",
   "pygments_lexer": "ipython3",
   "version": "3.7.13"
  },
  "orig_nbformat": 4,
  "vscode": {
   "interpreter": {
    "hash": "e488c7a4fce4353dfd1aaded5f2cd88c4c070e8a1e29701a368e5074db371aac"
   }
  }
 },
 "nbformat": 4,
 "nbformat_minor": 2
}

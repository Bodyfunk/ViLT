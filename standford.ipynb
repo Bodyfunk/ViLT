{
 "cells": [
  {
   "cell_type": "code",
   "execution_count": 1,
   "id": "7a122606",
   "metadata": {},
   "outputs": [],
   "source": [
    "from stanfordcorenlp import StanfordCoreNLP\n",
    "import numpy as np"
   ]
  },
  {
   "cell_type": "code",
   "execution_count": 2,
   "id": "d858606b",
   "metadata": {},
   "outputs": [
    {
     "name": "stdout",
     "output_type": "stream",
     "text": [
      "[('ROOT', 0, 2), ('det', 2, 1), ('case', 4, 3), ('nmod', 2, 4), ('acl', 2, 5), ('compound:prt', 5, 6), ('cc', 5, 7), ('case', 11, 8), ('det', 11, 9), ('amod', 11, 10), ('conj', 5, 11), ('case', 13, 12), ('nmod', 11, 13), ('case', 15, 14), ('nmod', 13, 15), ('case', 19, 16), ('det', 19, 17), ('amod', 19, 18), ('nmod', 11, 19), ('punct', 2, 20)]\n"
     ]
    }
   ],
   "source": [
    "\n",
    "zh_model = StanfordCoreNLP(r'/home/zzzqi/ViLT/nlp/stanford-corenlp-full-2018-10-05')\n",
    "s_zh = 'a display of flowers growing out and over the retaining wall in front of cottages on a cloudy day.'\n",
    "dep_zh = zh_model.dependency_parse(s_zh)\n",
    "print(dep_zh)"
   ]
  },
  {
   "cell_type": "code",
   "execution_count": 3,
   "id": "e17d8cd8",
   "metadata": {},
   "outputs": [],
   "source": [
    "'''查找根结点对应的索引'''\n",
    "root_index=[]\n",
    "for i in range(len(dep_zh)):\n",
    "    if dep_zh[i][0]=='ROOT':\n",
    "        root_index.append(i)"
   ]
  },
  {
   "cell_type": "code",
   "execution_count": 4,
   "id": "87e911f2",
   "metadata": {},
   "outputs": [
    {
     "name": "stdout",
     "output_type": "stream",
     "text": [
      "[('ROOT', 0, 2), ('det', 2, 1), ('case', 4, 3), ('nmod', 2, 4), ('acl', 2, 5), ('compound:prt', 5, 6), ('cc', 5, 7), ('case', 11, 8), ('det', 11, 9), ('amod', 11, 10), ('conj', 5, 11), ('case', 13, 12), ('nmod', 11, 13), ('case', 15, 14), ('nmod', 13, 15), ('case', 19, 16), ('det', 19, 17), ('amod', 19, 18), ('nmod', 11, 19), ('punct', 2, 20)]\n"
     ]
    }
   ],
   "source": [
    "'''修改依存关系三元组'''\n",
    "new_dep_outputs=[]\n",
    "for i in range(len(dep_zh)):\n",
    "    for index in root_index:\n",
    "        if i+1>index:\n",
    "            tag=index\n",
    "\n",
    "    if dep_zh[i][0]=='ROOT':\t\n",
    "        dep_output=(dep_zh[i][0],dep_zh[i][1],dep_zh[i][2]+tag)\n",
    "    else:\n",
    "        dep_output = (dep_zh[i][0], dep_zh[i][1] + tag, dep_zh[i][2] + tag)\n",
    "    new_dep_outputs.append(dep_output)\n",
    "\n",
    "print(new_dep_outputs)"
   ]
  },
  {
   "cell_type": "code",
   "execution_count": 5,
   "id": "354fdb96",
   "metadata": {},
   "outputs": [
    {
     "name": "stdout",
     "output_type": "stream",
     "text": [
      "['a', 'display', 'of', 'flowers', 'growing', 'out', 'and', 'over', 'the', 'retaining', 'wall', 'in', 'front', 'of', 'cottages', 'on', 'a', 'cloudy', 'day', '.']\n",
      "[2, 0, 4, 2, 2, 5, 5, 11, 11, 11, 5, 13, 11, 15, 13, 19, 19, 19, 11, 2]\n",
      "[[[0. 1. 0. 0. 0. 0. 0. 0. 0. 0. 0. 0. 0. 0. 0. 0. 0. 0. 0. 0. 1. 0. 0.\n",
      "   1. 1. 0. 0. 0. 0. 0. 0. 0. 0. 0. 0. 0. 0. 0. 0. 1. 0. 0. 0. 1. 0. 0.\n",
      "   0. 0. 0. 0. 0. 0. 0. 0. 0. 0. 0. 0. 0. 0. 0. 1. 1. 0. 0. 0. 0. 0. 0.\n",
      "   0. 0. 0. 0. 0. 0. 0. 0. 0. 0. 0. 0. 1. 0. 0. 0. 1. 1. 0. 0. 0. 1. 0.\n",
      "   0. 0. 0. 0. 0. 0. 0. 0. 0. 0. 0. 0. 1. 0. 0. 0. 0. 0. 0. 0. 0. 0. 0.\n",
      "   0. 0. 0. 0. 0. 0. 0. 0. 0. 1. 0. 0. 0. 0. 0. 0. 0. 0. 0. 0. 0. 0. 0.\n",
      "   0. 0. 0. 0. 0. 0. 0. 0. 0. 0. 0. 0. 1. 0. 0. 0. 0. 0. 0. 0. 0. 0. 0.\n",
      "   0. 0. 0. 0. 0. 0. 0. 0. 0. 1. 0. 0. 0. 0. 0. 0. 0. 0. 0. 0. 0. 0. 0.\n",
      "   0. 0. 0. 0. 0. 0. 1. 0. 0. 0. 0. 0. 0. 0. 0. 0. 0. 0. 0. 0. 1. 0. 0.\n",
      "   1. 1. 1. 0. 0. 1. 0. 0. 0. 0. 0. 1. 0. 0. 0. 0. 0. 0. 0. 0. 0. 0. 0.\n",
      "   0. 0. 1. 0. 0. 0. 0. 0. 0. 0. 0. 0. 0. 0. 0. 0. 0. 0. 0. 0. 1. 1. 0.\n",
      "   0. 1. 0. 0. 0. 0. 0. 0. 0. 0. 0. 0. 0. 0. 0. 0. 0. 0. 0. 0. 0. 1. 0.\n",
      "   0. 0. 0. 0. 0. 0. 0. 0. 0. 0. 0. 0. 0. 0. 0. 0. 1. 1. 0. 0. 0. 0. 0.\n",
      "   0. 0. 0. 0. 0. 0. 0. 0. 0. 0. 0. 0. 0. 0. 0. 0. 0. 0. 0. 1. 0. 0. 0.\n",
      "   0. 0. 0. 0. 0. 0. 0. 0. 0. 0. 0. 0. 0. 0. 0. 0. 1. 0. 0. 0. 0. 0. 0.\n",
      "   0. 0. 0. 0. 0. 0. 0. 0. 0. 0. 0. 0. 0. 1. 0. 0. 0. 0. 0. 0. 0. 0. 0.\n",
      "   0. 0. 1. 0. 0. 0. 0. 1. 1. 1. 0. 0. 0. 1. 0. 0. 0. 0. 0. 0. 0. 0. 0.\n",
      "   0. 0. 0. 0. 0. 0. 0. 0. 0.]]]\n"
     ]
    }
   ],
   "source": [
    "head_list = []\n",
    "tokens = zh_model.word_tokenize(s_zh)\n",
    "print(tokens)\n",
    "# 求解headlist\n",
    "for i in range(len(tokens)):\n",
    "    for dep_output in new_dep_outputs:\n",
    "        if dep_output[-1] == i + 1:\n",
    "            head_list.append(int(dep_output[1]))\n",
    "\n",
    "print(head_list)\n",
    "\n",
    "# 得出邻接矩阵\n",
    "def head_to_adj(head,max_sent_len):\n",
    "    ret = np.zeros((max_sent_len, max_sent_len), dtype=np.float32)\n",
    "    for i in range(len(head)):\n",
    "        j=head[i]\n",
    "        if j!=0:\n",
    "            ret[i,j-1]=1\n",
    "            ret[j-1,i]=1\n",
    "\n",
    "    return ret\n",
    "\n",
    "result = head_to_adj(head_list, 20)\n",
    "print(result.reshape(1,-1,400))"
   ]
  }
 ],
 "metadata": {
  "kernelspec": {
   "display_name": "Python 3.7.13 ('vilt3.7')",
   "language": "python",
   "name": "python3"
  },
  "language_info": {
   "codemirror_mode": {
    "name": "ipython",
    "version": 3
   },
   "file_extension": ".py",
   "mimetype": "text/x-python",
   "name": "python",
   "nbconvert_exporter": "python",
   "pygments_lexer": "ipython3",
   "version": "3.7.13"
  },
  "vscode": {
   "interpreter": {
    "hash": "e488c7a4fce4353dfd1aaded5f2cd88c4c070e8a1e29701a368e5074db371aac"
   }
  }
 },
 "nbformat": 4,
 "nbformat_minor": 5
}
